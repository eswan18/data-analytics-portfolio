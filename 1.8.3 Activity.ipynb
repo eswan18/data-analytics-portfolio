{
 "cells": [
  {
   "cell_type": "markdown",
   "metadata": {
    "id": "gXb6b0b_yrYQ"
   },
   "source": [
    "# Titanic Survivors Project\n",
    "\n",
    "# Introductory Course 1.8.3 Activity\n",
    "\n",
    "\n",
    "\n",
    "### Activity Goals\n",
    "\n",
    "You will learn how to explore a dataset, run through a notebook to see visualizations, and walk through a sample data project from start to finish.\n",
    "\n",
    "*Estimated Time: 60 minutes*\n",
    "\n",
    "![titanic.jpeg](data:image/jpeg;base64,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)\n",
    "\n",
    "---\n",
    "\n",
    "\n",
    "\n",
    "---\n",
    "\n",
    "\n",
    "\n",
    "---\n",
    "\n"
   ]
  },
  {
   "cell_type": "markdown",
   "metadata": {
    "id": "4HnzDin9lotx"
   },
   "source": [
    "## What is a Jupyter notebook?\n",
    "A Jupyter notebook is an environemt for running code that allows us to see the output of our code as well as add text throughout the process. It is one of the most common platforms data scientists and analysts use for  their projects. [insert link with more info here] \n",
    "\n",
    "This is a Google version of a Jupyter notebook that allows you to run the code through the internet instead of locally on your computer.\n",
    "\n",
    "For this project, you will mostly be editing cells and running them, note completing the actual code."
   ]
  },
  {
   "cell_type": "code",
   "execution_count": null,
   "metadata": {
    "id": "r0LGAOf_mVYB"
   },
   "outputs": [],
   "source": [
    "#A notebook is made up of cells. This is a code cell."
   ]
  },
  {
   "cell_type": "markdown",
   "metadata": {
    "id": "DcbCSCQEmgQi"
   },
   "source": [
    "This is a text cell. You can double click on me to edit."
   ]
  },
  {
   "cell_type": "code",
   "execution_count": null,
   "metadata": {
    "colab": {
     "base_uri": "https://localhost:8080/"
    },
    "executionInfo": {
     "elapsed": 3,
     "status": "ok",
     "timestamp": 1629737534486,
     "user": {
      "displayName": "Alleanna Clark",
      "photoUrl": "https://lh3.googleusercontent.com/a-/AOh14Gi8CJ0eYxFFaxwRwp-T5LwIt6PirYtxUpIFiZqY=s64",
      "userId": "03074383051682076555"
     },
     "user_tz": 420
    },
    "id": "ms_-od2zmoMo",
    "outputId": "97529b91-db20-4030-9253-9661c91e9698"
   },
   "outputs": [],
   "source": [
    "#To run this cell, either press the play button on the left of the cell, or press shift+enter\n",
    "print(\"Hello World\")"
   ]
  },
  {
   "cell_type": "markdown",
   "metadata": {
    "id": "ZBSR4OeKyrYS"
   },
   "source": [
    "---\n",
    "\n",
    "## The Data \n",
    "Now we will explore the Titanic dataset and make a prediction about the survivors.\n",
    "\n",
    "In this notebook, you'll be working with the same data from the previous lesson and making a predictive model using python. The Titanic dataset has information about the passengers and whether or not they survived the sinking of the Titanic.\n",
    "\n",
    "---\n",
    "\n",
    "## Context \n",
    "You have been practicing using Excel tools to analyze data. Now you will get to apply those skills to python and get a glimpse of what you'll be doing when you continue with data projects.\n",
    "\n",
    "---\n"
   ]
  },
  {
   "cell_type": "markdown",
   "metadata": {
    "id": "bnw6fWfLyrYT"
   },
   "source": [
    "## Obtain\n",
    "First, we need to import the libraries we will be using in this notebook."
   ]
  },
  {
   "cell_type": "code",
   "execution_count": null,
   "metadata": {
    "id": "7SsrIVj9GkbF"
   },
   "outputs": [],
   "source": [
    "#Import all the libraries we will be using in this notebook.\n",
    "\n",
    "import numpy as np\n",
    "import pandas as pd\n",
    "import seaborn as sns\n",
    "from sklearn.linear_model import LogisticRegression\n",
    "import matplotlib.pyplot as plt\n",
    "%matplotlib inline"
   ]
  },
  {
   "cell_type": "markdown",
   "metadata": {
    "id": "Oksw36P-Gn8m"
   },
   "source": [
    "### Loading the data\n",
    "After importing libraries, we will to upload the data we are going to use into a dataframe. This will look like the data you worked with in Excel in the previous lesson.\n",
    "\n",
    "**Note: The values that were blank in Excel show up as NaN (null) in the table.**"
   ]
  },
  {
   "cell_type": "code",
   "execution_count": null,
   "metadata": {
    "colab": {
     "base_uri": "https://localhost:8080/",
     "height": 255
    },
    "executionInfo": {
     "elapsed": 531,
     "status": "ok",
     "timestamp": 1629737536376,
     "user": {
      "displayName": "Alleanna Clark",
      "photoUrl": "https://lh3.googleusercontent.com/a-/AOh14Gi8CJ0eYxFFaxwRwp-T5LwIt6PirYtxUpIFiZqY=s64",
      "userId": "03074383051682076555"
     },
     "user_tz": 420
    },
    "id": "qHnx7nr9GtMu",
    "outputId": "8b537d9e-31c7-4721-fb97-76694cace0ae"
   },
   "outputs": [],
   "source": [
    "#The total data is split into a training and test set. Training is used to \"train\" the model, and the test set \n",
    "#is used to test the accuracy of the model. We load them both here from the Github repository.\n",
    "titanic_train = \"https://raw.githubusercontent.com/HackerUSA-CE/intro-project/main/data/train.csv\"\n",
    "titanic_test = \"https://raw.githubusercontent.com/HackerUSA-CE/intro-project/main/data/test.csv\"\n",
    "\n",
    "#We assign the data to a name so we can refer to it later.\n",
    "train = pd.read_csv(titanic_train)\n",
    "test = pd.read_csv(titanic_test)\n",
    "\n",
    "#This line will show us the first 5 rows of the training data.\n",
    "train.head()"
   ]
  },
  {
   "cell_type": "markdown",
   "metadata": {
    "id": "Y0fGWIrWyrYU"
   },
   "source": [
    "---"
   ]
  },
  {
   "cell_type": "markdown",
   "metadata": {
    "id": "8XghMVK-IgKv"
   },
   "source": [
    "## Scrub\n",
    "Data scrubbing, or data cleaning 🧽, is how we get the data into a format suitable for modeling or creating visualizations. For example, sometimes data is collected with a lot of missing values or it contains words when we need a numeric measurement. In the code cell below, we are filling the `Age` column with random values that are close to the mean Age."
   ]
  },
  {
   "cell_type": "code",
   "execution_count": null,
   "metadata": {
    "id": "cxcT0tv5Kq6n"
   },
   "outputs": [],
   "source": [
    "data = [train, test]\n",
    "\n",
    "for dataset in data:\n",
    "    mean = train[\"Age\"].mean()\n",
    "    std = test[\"Age\"].std()\n",
    "    is_null = dataset[\"Age\"].isnull().sum()\n",
    "\n",
    "    # compute random numbers between the mean, std and is_null\n",
    "    rand = np.random.randint(mean - std, mean + std, size = is_null)\n",
    "\n",
    "    # fill NaN values in Age column with random values generated\n",
    "    age = dataset[\"Age\"].copy()\n",
    "    age[np.isnan(age)] = rand\n",
    "    dataset[\"Age\"] = age\n",
    "    dataset[\"Age\"] = train[\"Age\"].astype(int)\n",
    "\n",
    "#Fill in NaN with most common embarked values\n",
    "common_value = 'S'\n",
    "data = [train, test]\n",
    "\n",
    "for dataset in data:\n",
    "    dataset['Embarked'] = dataset['Embarked'].fillna(common_value)\n",
    "\n",
    "data = [train, test]\n",
    "\n",
    "for dataset in data:\n",
    "    dataset['Fare'] = dataset['Fare'].fillna(0)\n",
    "    dataset['Fare'] = dataset['Fare'].astype(int)\n"
   ]
  },
  {
   "cell_type": "markdown",
   "metadata": {
    "id": "u1h5NKfLahzn"
   },
   "source": [
    "The code below changes the values from \"S\", \"C\", \"Q\" to numeric values and the `sex` column values to integers."
   ]
  },
  {
   "cell_type": "code",
   "execution_count": null,
   "metadata": {
    "colab": {
     "base_uri": "https://localhost:8080/",
     "height": 255
    },
    "executionInfo": {
     "elapsed": 170,
     "status": "ok",
     "timestamp": 1629737539663,
     "user": {
      "displayName": "Alleanna Clark",
      "photoUrl": "https://lh3.googleusercontent.com/a-/AOh14Gi8CJ0eYxFFaxwRwp-T5LwIt6PirYtxUpIFiZqY=s64",
      "userId": "03074383051682076555"
     },
     "user_tz": 420
    },
    "id": "dU_iD2QvYW1j",
    "outputId": "e5d04302-39c2-4723-f842-53dd46aef2ba"
   },
   "outputs": [],
   "source": [
    "ports = {\"S\": 0, \"C\": 1, \"Q\": 2}\n",
    "data = [train, test]\n",
    "\n",
    "for dataset in data:\n",
    "    dataset['Embarked'] = dataset['Embarked'].map(ports)\n",
    "\n",
    "genders = {\"male\": 0, \"female\": 1}\n",
    "data = [train, test]\n",
    "\n",
    "for dataset in data:\n",
    "    dataset['Sex'] = dataset['Sex'].map(genders)\n",
    "\n",
    "train.head()"
   ]
  },
  {
   "cell_type": "markdown",
   "metadata": {
    "id": "9RHiI2SLyrYU"
   },
   "source": [
    "## Explore"
   ]
  },
  {
   "cell_type": "markdown",
   "metadata": {
    "id": "qN12naCCyrYU"
   },
   "source": [
    "\n",
    "\n",
    "<b>Question 1:</b> Based on your preliminary exploration, what potential patterns do you see in this data set? \n",
    "\n",
    "<b>Answer: </b> YOUR ANSWER HERE\n"
   ]
  },
  {
   "cell_type": "markdown",
   "metadata": {
    "id": "WRXCtik95g-M"
   },
   "source": [
    "We will be looking at the survivors and coming up with a prediction based on the other features given to us in the dataset. Based on the visualizations below, we can see that most of the passengers are between 20 and 40 years old, did not have large families, and "
   ]
  },
  {
   "cell_type": "code",
   "execution_count": null,
   "metadata": {
    "colab": {
     "base_uri": "https://localhost:8080/",
     "height": 1000
    },
    "executionInfo": {
     "elapsed": 829,
     "status": "ok",
     "timestamp": 1629737542505,
     "user": {
      "displayName": "Alleanna Clark",
      "photoUrl": "https://lh3.googleusercontent.com/a-/AOh14Gi8CJ0eYxFFaxwRwp-T5LwIt6PirYtxUpIFiZqY=s64",
      "userId": "03074383051682076555"
     },
     "user_tz": 420
    },
    "id": "BE57q3Y292Ha",
    "outputId": "2ce0489f-ee93-428b-b409-01749ba122a0"
   },
   "outputs": [],
   "source": [
    "for i in train[['Age','SibSp','Parch','Fare']].columns:\n",
    "    plt.hist(train[['Age','SibSp','Parch','Fare']][i])\n",
    "    plt.title(i)\n",
    "    plt.show()"
   ]
  },
  {
   "cell_type": "markdown",
   "metadata": {
    "id": "uivFAUQrb1VK"
   },
   "source": [
    "We only want to select the columns that we want in our model. Based on the exploration, include the column names you think will be able to inform the prediction the best."
   ]
  },
  {
   "cell_type": "code",
   "execution_count": null,
   "metadata": {
    "colab": {
     "base_uri": "https://localhost:8080/",
     "height": 142
    },
    "executionInfo": {
     "elapsed": 170,
     "status": "ok",
     "timestamp": 1629737551725,
     "user": {
      "displayName": "Alleanna Clark",
      "photoUrl": "https://lh3.googleusercontent.com/a-/AOh14Gi8CJ0eYxFFaxwRwp-T5LwIt6PirYtxUpIFiZqY=s64",
      "userId": "03074383051682076555"
     },
     "user_tz": 420
    },
    "id": "OaW6whJI7SlH",
    "outputId": "ae5107cd-abd4-4742-e109-4eb5599ce880"
   },
   "outputs": [],
   "source": [
    "#This shows us the averages for the survived (1) and not survived (0).\n",
    "pd.pivot_table(train, index = 'Survived', values = ['Age','SibSp','Parch','Fare'])\n"
   ]
  },
  {
   "cell_type": "markdown",
   "metadata": {
    "id": "dz0wSkVc9DdH"
   },
   "source": [
    "**What do you notice about the above pivot table?**"
   ]
  },
  {
   "cell_type": "markdown",
   "metadata": {
    "id": "edTC3U9r9F1a"
   },
   "source": [
    "[Insert answer here]"
   ]
  },
  {
   "cell_type": "code",
   "execution_count": null,
   "metadata": {
    "colab": {
     "base_uri": "https://localhost:8080/",
     "height": 204
    },
    "executionInfo": {
     "elapsed": 183,
     "status": "ok",
     "timestamp": 1629686388388,
     "user": {
      "displayName": "Alleanna Clark",
      "photoUrl": "https://lh3.googleusercontent.com/a-/AOh14Gi8CJ0eYxFFaxwRwp-T5LwIt6PirYtxUpIFiZqY=s64",
      "userId": "03074383051682076555"
     },
     "user_tz": 420
    },
    "id": "rLUpqz15b_58",
    "outputId": "718a782e-c884-45b7-e42f-b5c931c8f045"
   },
   "outputs": [],
   "source": [
    "train = train[[\"Survived\", \"Pclass\", \"Sex\", \"Age\", \"SibSp\", \"Parch\", \"Fare\", \"Embarked\"]]\n",
    "test = test[[\"Pclass\", \"Sex\", \"Age\", \"SibSp\", \"Parch\", \"Fare\", \"Embarked\"]]\n",
    "train.head()"
   ]
  },
  {
   "cell_type": "markdown",
   "metadata": {
    "id": "mWEQA1GTyrYV"
   },
   "source": [
    "## Model\n",
    "\n",
    "Data scientists use models to predict outcomes based on data they currently have. There are many different kinds of models and each one is suitable for a different kind of question or problem."
   ]
  },
  {
   "cell_type": "markdown",
   "metadata": {
    "id": "d_OcW2mT5lKp"
   },
   "source": [
    "### Logistic Regression\n",
    "A logistic regression is a simple model that helps us to predict binary outcomes. For example, a logistic regression model could be used to predict whether a team will win or lose a game or whether someone survived the Titanic sinking or not."
   ]
  },
  {
   "cell_type": "code",
   "execution_count": null,
   "metadata": {
    "colab": {
     "base_uri": "https://localhost:8080/"
    },
    "executionInfo": {
     "elapsed": 177,
     "status": "ok",
     "timestamp": 1629686417064,
     "user": {
      "displayName": "Alleanna Clark",
      "photoUrl": "https://lh3.googleusercontent.com/a-/AOh14Gi8CJ0eYxFFaxwRwp-T5LwIt6PirYtxUpIFiZqY=s64",
      "userId": "03074383051682076555"
     },
     "user_tz": 420
    },
    "id": "QLCygYhiyrYV",
    "outputId": "346c4354-59f6-4f2e-acaf-2d76d21f3c31"
   },
   "outputs": [],
   "source": [
    "X_train = train.drop(\"Survived\", axis=1)\n",
    "Y_train = train[\"Survived\"]\n",
    "X_test  = test.copy()\n",
    "lr = LogisticRegression()\n",
    "lr.fit(X_train, Y_train)\n",
    "\n",
    "Y_pred = lr.predict(X_test)\n",
    "\n",
    "accuracy = round(lr.score(X_train, Y_train) * 100, 2)\n",
    "accuracy"
   ]
  },
  {
   "cell_type": "markdown",
   "metadata": {
    "id": "FdlPKjCc0b-b"
   },
   "source": [
    "In the cell below, you can edit which columns you decide to keep in the training set by referencing the data dictionary from 1.8.2. Make sure to update the test table too."
   ]
  },
  {
   "cell_type": "code",
   "execution_count": null,
   "metadata": {
    "colab": {
     "base_uri": "https://localhost:8080/",
     "height": 204
    },
    "executionInfo": {
     "elapsed": 188,
     "status": "ok",
     "timestamp": 1629737931451,
     "user": {
      "displayName": "Alleanna Clark",
      "photoUrl": "https://lh3.googleusercontent.com/a-/AOh14Gi8CJ0eYxFFaxwRwp-T5LwIt6PirYtxUpIFiZqY=s64",
      "userId": "03074383051682076555"
     },
     "user_tz": 420
    },
    "id": "N2yyriMR0aDF",
    "outputId": "e27d8ec4-5a84-4cf2-99ad-5c1ecc3762fa"
   },
   "outputs": [],
   "source": [
    "train = train[[\"Survived\", \"Pclass\", \"Sex\", \"Age\", \"SibSp\", \"Parch\", \"Fare\", \"Embarked\"]]\n",
    "test = test[[\"Pclass\", \"Sex\", \"Age\", \"SibSp\", \"Parch\", \"Fare\", \"Embarked\"]]\n",
    "train.head()\n",
    "\n",
    "#Re-run the model with new train columns."
   ]
  },
  {
   "cell_type": "markdown",
   "metadata": {
    "id": "q9FrRHZnyrYV"
   },
   "source": [
    "## Interpret"
   ]
  },
  {
   "cell_type": "markdown",
   "metadata": {
    "id": "x7KXSlbnyrYV"
   },
   "source": [
    "What do you notice about the accuracy? Does 80% seem like a good score? "
   ]
  },
  {
   "cell_type": "markdown",
   "metadata": {
    "id": "XZa5cuYZ7_lw"
   },
   "source": [
    "[Insert answer here]"
   ]
  },
  {
   "cell_type": "markdown",
   "metadata": {
    "id": "1pYeWxjPy8My"
   },
   "source": [
    "---\n",
    "## Closing Remarks\n",
    "When makeing predictions based on models, we assign an accuracy score but there is usually more to it. Data Scientists will conduct something called **cross validation** to evaluate their models and comment on how reliable they are for decision making. The full-time program will go more into how to create more intricate models and utilize them to make decisions along with the impications that come with that.\n",
    "\n",
    "Congratulations! You have made it through the Introductory Project!"
   ]
  },
  {
   "cell_type": "markdown",
   "metadata": {
    "id": "VBULdrFA3Itf"
   },
   "source": [
    "---\n",
    "## Additional Resources\n",
    "- Links to resources/articles\n",
    "- [Supervised vs Unsupervised](https://www.ibm.com/cloud/blog/supervised-vs-unsupervised-learning)\n",
    "\n",
    "*Techniques simplified from ones used in this [article.](https://towardsdatascience.com/predicting-the-survival-of-titanic-passengers-30870ccc7e8)\n",
    "\n",
    "*Pivot table from: [Project](https://www.analyticsvidhya.com/blog/2021/05/titanic-survivors-a-guide-for-your-first-data-science-project/)"
   ]
  },
  {
   "cell_type": "code",
   "execution_count": null,
   "metadata": {
    "id": "qJi0CZybLjqO"
   },
   "outputs": [],
   "source": []
  }
 ],
 "metadata": {
  "anaconda-cloud": {},
  "colab": {
   "collapsed_sections": [],
   "name": "1.8.3 Activity.ipynb",
   "provenance": [],
   "toc_visible": true
  },
  "kernelspec": {
   "display_name": "uc-python",
   "language": "python",
   "name": "uc-python"
  },
  "language_info": {
   "codemirror_mode": {
    "name": "ipython",
    "version": 3
   },
   "file_extension": ".py",
   "mimetype": "text/x-python",
   "name": "python",
   "nbconvert_exporter": "python",
   "pygments_lexer": "ipython3",
   "version": "3.9.7"
  }
 },
 "nbformat": 4,
 "nbformat_minor": 4
}
